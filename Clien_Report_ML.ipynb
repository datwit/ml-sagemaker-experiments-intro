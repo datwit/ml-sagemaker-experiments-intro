{
 "cells": [
  {
   "cell_type": "markdown",
   "id": "ee1bd2c4",
   "metadata": {},
   "source": [
    "# Machine Learning Report\n",
    "\n",
    "Roadmap of investigation and status of the project"
   ]
  },
  {
   "cell_type": "markdown",
   "id": "b41a8405",
   "metadata": {},
   "source": [
    "## What's it all about?\n",
    "\n",
    "* Understanding Data\n",
    "* Optimizing time with autopilot\n",
    "* Feature Analysis Result\n",
    "* Setup a SageMaker Experiment\n",
    "* Deploying Best-model result\n",
    "* Monitoring the result\n",
    "* Future works"
   ]
  },
  {
   "cell_type": "markdown",
   "id": "315004fa",
   "metadata": {},
   "source": [
    "## Data Preparation\n",
    "\n",
    "* Uploaded data to S3\n",
    "\n",
    "```python\n",
    "inputs = sagemaker.Session().upload_data(path=\"mnist\", bucket=bucket, key_prefix=prefix)\n",
    "print(\"input spec: {}\".format(inputs))\n",
    "```"
   ]
  },
  {
   "cell_type": "markdown",
   "id": "4c575030",
   "metadata": {},
   "source": [
    "## Autopilot\n",
    "\n",
    "* studying the data with autopilot\n",
    "* cost: 10$\n",
    "* time: 2.5h\n",
    "* resources: 4 instances ml5.xlarge\n",
    "\n",
    "PENDENT: picture of autopilot"
   ]
  },
  {
   "attachments": {},
   "cell_type": "markdown",
   "id": "d2278570",
   "metadata": {},
   "source": [
    "## Feature Analysis Result\n",
    "<img src=\"figures/feature_selection_result.png\" />\n"
   ]
  },
  {
   "cell_type": "markdown",
   "id": "589a1b4f",
   "metadata": {},
   "source": [
    "## Setup a SageMaker Experiment\n",
    "\n",
    "```python\n",
    "mnist_experiment = Experiment.create(\n",
    "    experiment_name=f\"mnist-hand-written-digits-classification-{int(time.time())}\",\n",
    "    description=\"Classification of mnist hand-written digits\",\n",
    "    sagemaker_boto_client=sm,\n",
    ")\n",
    "```"
   ]
  },
  {
   "cell_type": "markdown",
   "id": "78544bd7",
   "metadata": {},
   "source": [
    "PENDENT widget con el resultado de los 5 NN y un enlace al SageMaker Experiment (abierto en otra pestaña para revisar)"
   ]
  },
  {
   "cell_type": "markdown",
   "id": "b1ce6c71",
   "metadata": {},
   "source": [
    "##  Deploying Best Result\n",
    "<img src=\"figures/endpoint.png\" />\n"
   ]
  }
 ],
 "metadata": {
  "kernelspec": {
   "display_name": "Python 3",
   "language": "python",
   "name": "python3"
  },
  "language_info": {
   "codemirror_mode": {
    "name": "ipython",
    "version": 3
   },
   "file_extension": ".py",
   "mimetype": "text/x-python",
   "name": "python",
   "nbconvert_exporter": "python",
   "pygments_lexer": "ipython3",
   "version": "3.8.10"
  }
 },
 "nbformat": 4,
 "nbformat_minor": 5
}
